{
 "cells": [
  {
   "cell_type": "markdown",
   "metadata": {},
   "source": [
    "# Higgs Boson - Training\n",
    "\n",
    "(example from xgboost docs)\n",
    "\n",
    "## [Link](https://www.kaggle.com/c/higgs-boson)"
   ]
  },
  {
   "cell_type": "code",
   "execution_count": 3,
   "metadata": {
    "collapsed": true
   },
   "outputs": [],
   "source": [
    "import numpy as np\n",
    "import xgboost as xgb"
   ]
  },
  {
   "cell_type": "code",
   "execution_count": 4,
   "metadata": {
    "collapsed": true
   },
   "outputs": [],
   "source": [
    "test_size = 550000"
   ]
  },
  {
   "cell_type": "code",
   "execution_count": 5,
   "metadata": {
    "collapsed": true
   },
   "outputs": [],
   "source": [
    "dtrain = np.loadtxt('data/higgs/training.csv', delimiter=',', skiprows=1, converters={32: lambda x:int(x=='s'.encode('utf-8')) } )"
   ]
  },
  {
   "cell_type": "code",
   "execution_count": 6,
   "metadata": {
    "collapsed": true
   },
   "outputs": [],
   "source": [
    "label  = dtrain[:,32]\n",
    "data   = dtrain[:,1:31]"
   ]
  },
  {
   "cell_type": "code",
   "execution_count": 7,
   "metadata": {
    "collapsed": true
   },
   "outputs": [],
   "source": [
    "weight = dtrain[:,31] * float(test_size) / len(label)"
   ]
  },
  {
   "cell_type": "code",
   "execution_count": 8,
   "metadata": {
    "collapsed": true
   },
   "outputs": [],
   "source": [
    "sum_wpos = sum( weight[i] for i in range(len(label)) if label[i] == 1.0  )\n",
    "sum_wneg = sum( weight[i] for i in range(len(label)) if label[i] == 0.0  )\n"
   ]
  },
  {
   "cell_type": "code",
   "execution_count": 9,
   "metadata": {
    "collapsed": false
   },
   "outputs": [
    {
     "data": {
      "text/plain": [
       "1522.3749369677494"
      ]
     },
     "execution_count": 9,
     "metadata": {},
     "output_type": "execute_result"
    }
   ],
   "source": [
    "sum_wpos"
   ]
  },
  {
   "cell_type": "code",
   "execution_count": 10,
   "metadata": {
    "collapsed": false
   },
   "outputs": [
    {
     "data": {
      "text/plain": [
       "904199.66410839953"
      ]
     },
     "execution_count": 10,
     "metadata": {},
     "output_type": "execute_result"
    }
   ],
   "source": [
    "sum_wneg"
   ]
  },
  {
   "cell_type": "code",
   "execution_count": 11,
   "metadata": {
    "collapsed": false
   },
   "outputs": [
    {
     "data": {
      "text/plain": [
       "593.94019314937952"
      ]
     },
     "execution_count": 11,
     "metadata": {},
     "output_type": "execute_result"
    }
   ],
   "source": [
    "ratio = sum_wneg/sum_wpos\n",
    "ratio"
   ]
  },
  {
   "cell_type": "code",
   "execution_count": 12,
   "metadata": {
    "collapsed": true
   },
   "outputs": [],
   "source": [
    "xgmat = xgb.DMatrix( data, label=label, missing = -999.0, weight=weight )\n"
   ]
  },
  {
   "cell_type": "markdown",
   "metadata": {},
   "source": [
    "Setup parameters for xgboost. use logistic regression loss, use raw prediction before logistic transformation since we only need the rank. Also scale weight of positive examples"
   ]
  },
  {
   "cell_type": "code",
   "execution_count": 13,
   "metadata": {
    "collapsed": true
   },
   "outputs": [],
   "source": [
    "param = {}\n",
    "param['objective'] = 'binary:logitraw'\n",
    "param['scale_pos_weight'] = sum_wneg/sum_wpos\n",
    "param['eta'] = 0.1\n",
    "param['max_depth'] = 6\n",
    "param['eval_metric'] = 'auc'\n",
    "param['silent'] = 1\n",
    "param['nthread'] = 16"
   ]
  },
  {
   "cell_type": "code",
   "execution_count": 15,
   "metadata": {
    "collapsed": true
   },
   "outputs": [],
   "source": [
    "plst = list(param.items())+[('eval_metric', 'ams@0.15')]\n",
    "watchlist = [ (xgmat,'train') ]"
   ]
  },
  {
   "cell_type": "code",
   "execution_count": 16,
   "metadata": {
    "collapsed": true
   },
   "outputs": [],
   "source": [
    "num_round = 120"
   ]
  },
  {
   "cell_type": "code",
   "execution_count": 17,
   "metadata": {
    "collapsed": false
   },
   "outputs": [
    {
     "name": "stderr",
     "output_type": "stream",
     "text": [
      "[0]\ttrain-auc:0.910911\ttrain-ams@0.15:3.699574\n",
      "[1]\ttrain-auc:0.915308\ttrain-ams@0.15:3.971228\n",
      "[2]\ttrain-auc:0.917743\ttrain-ams@0.15:4.067463\n",
      "[3]\ttrain-auc:0.919345\ttrain-ams@0.15:4.209762\n",
      "[4]\ttrain-auc:0.920139\ttrain-ams@0.15:4.130002\n",
      "[5]\ttrain-auc:0.921023\ttrain-ams@0.15:4.175496\n",
      "[6]\ttrain-auc:0.921944\ttrain-ams@0.15:4.261817\n",
      "[7]\ttrain-auc:0.922337\ttrain-ams@0.15:4.262321\n",
      "[8]\ttrain-auc:0.923330\ttrain-ams@0.15:4.326685\n",
      "[9]\ttrain-auc:0.924186\ttrain-ams@0.15:4.383842\n",
      "[10]\ttrain-auc:0.924737\ttrain-ams@0.15:4.388791\n",
      "[11]\ttrain-auc:0.925317\ttrain-ams@0.15:4.407903\n",
      "[12]\ttrain-auc:0.925923\ttrain-ams@0.15:4.446479\n",
      "[13]\ttrain-auc:0.926334\ttrain-ams@0.15:4.450507\n",
      "[14]\ttrain-auc:0.926958\ttrain-ams@0.15:4.489145\n",
      "[15]\ttrain-auc:0.927428\ttrain-ams@0.15:4.517542\n",
      "[16]\ttrain-auc:0.928081\ttrain-ams@0.15:4.537076\n",
      "[17]\ttrain-auc:0.928468\ttrain-ams@0.15:4.549403\n",
      "[18]\ttrain-auc:0.929035\ttrain-ams@0.15:4.596463\n",
      "[19]\ttrain-auc:0.929520\ttrain-ams@0.15:4.643400\n",
      "[20]\ttrain-auc:0.930040\ttrain-ams@0.15:4.714101\n",
      "[21]\ttrain-auc:0.930407\ttrain-ams@0.15:4.700137\n",
      "[22]\ttrain-auc:0.930734\ttrain-ams@0.15:4.714103\n",
      "[23]\ttrain-auc:0.931134\ttrain-ams@0.15:4.740779\n",
      "[24]\ttrain-auc:0.931424\ttrain-ams@0.15:4.769022\n",
      "[25]\ttrain-auc:0.931719\ttrain-ams@0.15:4.792167\n",
      "[26]\ttrain-auc:0.932058\ttrain-ams@0.15:4.803802\n",
      "[27]\ttrain-auc:0.932384\ttrain-ams@0.15:4.812494\n",
      "[28]\ttrain-auc:0.932727\ttrain-ams@0.15:4.830622\n",
      "[29]\ttrain-auc:0.933082\ttrain-ams@0.15:4.853905\n",
      "[30]\ttrain-auc:0.933316\ttrain-ams@0.15:4.874090\n",
      "[31]\ttrain-auc:0.933632\ttrain-ams@0.15:4.880479\n",
      "[32]\ttrain-auc:0.933988\ttrain-ams@0.15:4.894283\n",
      "[33]\ttrain-auc:0.934209\ttrain-ams@0.15:4.953856\n",
      "[34]\ttrain-auc:0.934502\ttrain-ams@0.15:4.971122\n",
      "[35]\ttrain-auc:0.934807\ttrain-ams@0.15:4.979061\n",
      "[36]\ttrain-auc:0.935158\ttrain-ams@0.15:5.004854\n",
      "[37]\ttrain-auc:0.935409\ttrain-ams@0.15:5.021797\n",
      "[38]\ttrain-auc:0.935659\ttrain-ams@0.15:5.051516\n",
      "[39]\ttrain-auc:0.935881\ttrain-ams@0.15:5.052001\n",
      "[40]\ttrain-auc:0.936076\ttrain-ams@0.15:5.075299\n",
      "[41]\ttrain-auc:0.936266\ttrain-ams@0.15:5.103484\n",
      "[42]\ttrain-auc:0.936494\ttrain-ams@0.15:5.122906\n",
      "[43]\ttrain-auc:0.936684\ttrain-ams@0.15:5.141950\n",
      "[44]\ttrain-auc:0.936937\ttrain-ams@0.15:5.167672\n",
      "[45]\ttrain-auc:0.937117\ttrain-ams@0.15:5.167426\n",
      "[46]\ttrain-auc:0.937362\ttrain-ams@0.15:5.201398\n",
      "[47]\ttrain-auc:0.937555\ttrain-ams@0.15:5.221578\n",
      "[48]\ttrain-auc:0.937728\ttrain-ams@0.15:5.223874\n",
      "[49]\ttrain-auc:0.937960\ttrain-ams@0.15:5.275698\n",
      "[50]\ttrain-auc:0.938182\ttrain-ams@0.15:5.280038\n",
      "[51]\ttrain-auc:0.938381\ttrain-ams@0.15:5.290863\n",
      "[52]\ttrain-auc:0.938584\ttrain-ams@0.15:5.320636\n",
      "[53]\ttrain-auc:0.938740\ttrain-ams@0.15:5.316153\n",
      "[54]\ttrain-auc:0.938927\ttrain-ams@0.15:5.329103\n",
      "[55]\ttrain-auc:0.939063\ttrain-ams@0.15:5.344574\n",
      "[56]\ttrain-auc:0.939220\ttrain-ams@0.15:5.374212\n",
      "[57]\ttrain-auc:0.939384\ttrain-ams@0.15:5.391830\n",
      "[58]\ttrain-auc:0.939549\ttrain-ams@0.15:5.409289\n",
      "[59]\ttrain-auc:0.939664\ttrain-ams@0.15:5.427676\n",
      "[60]\ttrain-auc:0.939837\ttrain-ams@0.15:5.446434\n",
      "[61]\ttrain-auc:0.939928\ttrain-ams@0.15:5.450449\n",
      "[62]\ttrain-auc:0.940079\ttrain-ams@0.15:5.447849\n",
      "[63]\ttrain-auc:0.940185\ttrain-ams@0.15:5.448193\n",
      "[64]\ttrain-auc:0.940305\ttrain-ams@0.15:5.459027\n",
      "[65]\ttrain-auc:0.940432\ttrain-ams@0.15:5.472901\n",
      "[66]\ttrain-auc:0.940545\ttrain-ams@0.15:5.488286\n",
      "[67]\ttrain-auc:0.940697\ttrain-ams@0.15:5.487774\n",
      "[68]\ttrain-auc:0.940799\ttrain-ams@0.15:5.509848\n",
      "[69]\ttrain-auc:0.940932\ttrain-ams@0.15:5.527342\n",
      "[70]\ttrain-auc:0.941016\ttrain-ams@0.15:5.554874\n",
      "[71]\ttrain-auc:0.941162\ttrain-ams@0.15:5.562773\n",
      "[72]\ttrain-auc:0.941284\ttrain-ams@0.15:5.561116\n",
      "[73]\ttrain-auc:0.941376\ttrain-ams@0.15:5.569023\n",
      "[74]\ttrain-auc:0.941475\ttrain-ams@0.15:5.591649\n",
      "[75]\ttrain-auc:0.941568\ttrain-ams@0.15:5.591387\n",
      "[76]\ttrain-auc:0.941663\ttrain-ams@0.15:5.593519\n",
      "[77]\ttrain-auc:0.941851\ttrain-ams@0.15:5.618315\n",
      "[78]\ttrain-auc:0.941940\ttrain-ams@0.15:5.618974\n",
      "[79]\ttrain-auc:0.942093\ttrain-ams@0.15:5.633730\n",
      "[80]\ttrain-auc:0.942234\ttrain-ams@0.15:5.639210\n",
      "[81]\ttrain-auc:0.942295\ttrain-ams@0.15:5.642461\n",
      "[82]\ttrain-auc:0.942359\ttrain-ams@0.15:5.650084\n",
      "[83]\ttrain-auc:0.942427\ttrain-ams@0.15:5.647470\n",
      "[84]\ttrain-auc:0.942581\ttrain-ams@0.15:5.645771\n",
      "[85]\ttrain-auc:0.942660\ttrain-ams@0.15:5.651271\n",
      "[86]\ttrain-auc:0.942769\ttrain-ams@0.15:5.674523\n",
      "[87]\ttrain-auc:0.942881\ttrain-ams@0.15:5.688059\n",
      "[88]\ttrain-auc:0.943017\ttrain-ams@0.15:5.689916\n",
      "[89]\ttrain-auc:0.943214\ttrain-ams@0.15:5.719707\n",
      "[90]\ttrain-auc:0.943260\ttrain-ams@0.15:5.723981\n",
      "[91]\ttrain-auc:0.943355\ttrain-ams@0.15:5.738670\n",
      "[92]\ttrain-auc:0.943433\ttrain-ams@0.15:5.732101\n",
      "[93]\ttrain-auc:0.943523\ttrain-ams@0.15:5.728471\n",
      "[94]\ttrain-auc:0.943604\ttrain-ams@0.15:5.738973\n",
      "[95]\ttrain-auc:0.943735\ttrain-ams@0.15:5.753224\n",
      "[96]\ttrain-auc:0.943789\ttrain-ams@0.15:5.759308\n",
      "[97]\ttrain-auc:0.943865\ttrain-ams@0.15:5.758770\n",
      "[98]\ttrain-auc:0.943957\ttrain-ams@0.15:5.754945\n",
      "[99]\ttrain-auc:0.944055\ttrain-ams@0.15:5.770667\n",
      "[100]\ttrain-auc:0.944126\ttrain-ams@0.15:5.787282\n",
      "[101]\ttrain-auc:0.944261\ttrain-ams@0.15:5.817196\n",
      "[102]\ttrain-auc:0.944360\ttrain-ams@0.15:5.830607\n",
      "[103]\ttrain-auc:0.944419\ttrain-ams@0.15:5.828457\n",
      "[104]\ttrain-auc:0.944496\ttrain-ams@0.15:5.838943\n",
      "[105]\ttrain-auc:0.944545\ttrain-ams@0.15:5.836242\n",
      "[106]\ttrain-auc:0.944580\ttrain-ams@0.15:5.835415\n",
      "[107]\ttrain-auc:0.944687\ttrain-ams@0.15:5.838230\n",
      "[108]\ttrain-auc:0.944808\ttrain-ams@0.15:5.841471\n",
      "[109]\ttrain-auc:0.944911\ttrain-ams@0.15:5.843748\n",
      "[110]\ttrain-auc:0.945054\ttrain-ams@0.15:5.848295\n",
      "[111]\ttrain-auc:0.945067\ttrain-ams@0.15:5.851860\n",
      "[112]\ttrain-auc:0.945185\ttrain-ams@0.15:5.844507\n",
      "[113]\ttrain-auc:0.945228\ttrain-ams@0.15:5.840065\n",
      "[114]\ttrain-auc:0.945323\ttrain-ams@0.15:5.858000\n",
      "[115]\ttrain-auc:0.945364\ttrain-ams@0.15:5.862282\n",
      "[116]\ttrain-auc:0.945499\ttrain-ams@0.15:5.911599\n",
      "[117]\ttrain-auc:0.945535\ttrain-ams@0.15:5.918416\n",
      "[118]\ttrain-auc:0.945648\ttrain-ams@0.15:5.937291\n",
      "[119]\ttrain-auc:0.945800\ttrain-ams@0.15:5.935622\n"
     ]
    }
   ],
   "source": [
    "bst = xgb.train( plst, xgmat, num_round, watchlist );"
   ]
  },
  {
   "cell_type": "code",
   "execution_count": 18,
   "metadata": {
    "collapsed": true
   },
   "outputs": [],
   "source": [
    "bst.save_model('higgs.model')"
   ]
  }
 ],
 "metadata": {
  "kernelspec": {
   "display_name": "Python 3",
   "language": "python",
   "name": "python3"
  },
  "language_info": {
   "codemirror_mode": {
    "name": "ipython",
    "version": 3
   },
   "file_extension": ".py",
   "mimetype": "text/x-python",
   "name": "python",
   "nbconvert_exporter": "python",
   "pygments_lexer": "ipython3",
   "version": "3.5.1"
  }
 },
 "nbformat": 4,
 "nbformat_minor": 0
}
